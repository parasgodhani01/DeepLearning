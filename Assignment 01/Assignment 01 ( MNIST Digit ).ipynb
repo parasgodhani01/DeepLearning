{
 "cells": [
  {
   "cell_type": "code",
   "execution_count": 1,
   "id": "2e969845",
   "metadata": {},
   "outputs": [],
   "source": [
    "import tensorflow as tf\n",
    "import numpy as np\n",
    "import matplotlib.pyplot as plt\n",
    "from datasets import MNISTDataset"
   ]
  },
  {
   "cell_type": "code",
   "execution_count": 2,
   "id": "3c77a909",
   "metadata": {},
   "outputs": [],
   "source": [
    "mnist = tf.keras.datasets.mnist"
   ]
  },
  {
   "cell_type": "code",
   "execution_count": 3,
   "id": "3a8c1753",
   "metadata": {},
   "outputs": [],
   "source": [
    "(train_images,train_labels),(test_images,test_labels) = mnist.load_data()"
   ]
  },
  {
   "cell_type": "code",
   "execution_count": 4,
   "id": "a28de4ec",
   "metadata": {
    "scrolled": true
   },
   "outputs": [
    {
     "data": {
      "text/plain": [
       "<matplotlib.image.AxesImage at 0x20846a3c2b0>"
      ]
     },
     "execution_count": 4,
     "metadata": {},
     "output_type": "execute_result"
    },
    {
     "data": {
      "image/png": "[encoded data removed]",
      "text/plain": [
       "<Figure size 432x288 with 1 Axes>"
      ]
     },
     "metadata": {
      "needs_background": "light"
     },
     "output_type": "display_data"
    }
   ],
   "source": [
    "plt.imshow(train_images[4])"
   ]
  },
  {
   "cell_type": "code",
   "execution_count": 5,
   "id": "558121f5",
   "metadata": {},
   "outputs": [],
   "source": [
    "data = MNISTDataset(train_images.reshape([-1,784]),train_labels,\n",
    "                   test_images.reshape([-1,784]),test_labels,batch_size=128)"
   ]
  },
  {
   "cell_type": "code",
   "execution_count": 6,
   "id": "c4e31f9d",
   "metadata": {},
   "outputs": [],
   "source": [
    "train_steps = 1000\n",
    "learning_rate = 0.01\n",
    "\n",
    "W = tf.Variable(np.zeros([784,10]).astype(np.float32))\n",
    "b = tf.Variable(np.zeros(10,dtype=np.float32))"
   ]
  },
  {
   "cell_type": "code",
   "execution_count": 7,
   "id": "52a7e6d7",
   "metadata": {},
   "outputs": [
    {
     "name": "stdout",
     "output_type": "stream",
     "text": [
      "Loss:  2.3025853633880615     |     Accuracy:  0.1328125\n",
      "Loss:  1.5727407932281494     |     Accuracy:  0.78125\n",
      "Loss:  1.2918236255645752     |     Accuracy:  0.765625\n",
      "Loss:  0.8938482999801636     |     Accuracy:  0.8359375\n",
      "Loss:  0.8642217516899109     |     Accuracy:  0.8515625\n",
      "Starting new epoch...\n",
      "Loss:  0.8197478652000427     |     Accuracy:  0.859375\n",
      "Loss:  0.6347735524177551     |     Accuracy:  0.875\n",
      "Loss:  0.7386946678161621     |     Accuracy:  0.8359375\n",
      "Loss:  0.6880355477333069     |     Accuracy:  0.828125\n",
      "Loss:  0.6126734018325806     |     Accuracy:  0.8515625\n",
      "Starting new epoch...\n"
     ]
    }
   ],
   "source": [
    "for step in range(train_steps):\n",
    "    img_batch,lbl_batch = data.next_batch()\n",
    "    with tf.GradientTape() as tape:\n",
    "        logits = tf.matmul(img_batch,W)+b\n",
    "        xent = tf.reduce_mean(tf.nn.sparse_softmax_cross_entropy_with_logits(logits=logits,labels = lbl_batch))\n",
    "    \n",
    "    grads = tape.gradient(xent,[W,b])\n",
    "    W.assign_sub(learning_rate*grads[0])\n",
    "    b.assign_sub(learning_rate*grads[1])\n",
    "    \n",
    "    if not step%100:\n",
    "        preds = tf.argmax(logits,axis=1,output_type=tf.int32)\n",
    "        acc=tf.reduce_mean(tf.cast(tf.equal(preds,lbl_batch),tf.float32))\n",
    "        print(\"Loss:  {}     |     Accuracy:  {}\".format(xent,acc))"
   ]
  },
  {
   "cell_type": "code",
   "execution_count": 8,
   "id": "75c304f2",
   "metadata": {},
   "outputs": [
    {
     "name": "stdout",
     "output_type": "stream",
     "text": [
      "tf.Tensor(0.8698, shape=(), dtype=float32)\n"
     ]
    }
   ],
   "source": [
    "test_preds = tf.argmax(tf.matmul(data.test_data, W) + b, axis=1,output_type=tf.int32)\n",
    "\n",
    "acc = tf.reduce_mean(tf.cast(tf.equal(test_preds, data.test_labels), tf.float32))\n",
    "\n",
    "print(acc)"
   ]
  }
 ],
 "metadata": {
  "kernelspec": {
   "display_name": "Python 3 (ipykernel)",
   "language": "python",
   "name": "python3"
  },
  "language_info": {
   "codemirror_mode": {
    "name": "ipython",
    "version": 3
   },
   "file_extension": ".py",
   "mimetype": "text/x-python",
   "name": "python",
   "nbconvert_exporter": "python",
   "pygments_lexer": "ipython3",
   "version": "3.9.12"
  }
 },
 "nbformat": 4,
 "nbformat_minor": 5
}
